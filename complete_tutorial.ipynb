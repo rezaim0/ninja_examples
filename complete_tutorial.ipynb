{
 "cells": [
  {
   "cell_type": "code",
   "execution_count": null,
   "id": "f1fff7f8",
   "metadata": {},
   "outputs": [],
   "source": [
    "# Input YAML data\n",
    "person:\n",
    "  name: John\n",
    "  age: 30\n"
   ]
  },
  {
   "cell_type": "code",
   "execution_count": null,
   "id": "c2b4f4b8",
   "metadata": {},
   "outputs": [],
   "source": [
    "# Python equivalent\n",
    "{\n",
    "    'person': {\n",
    "        'name': 'John',\n",
    "        'age': 30\n",
    "    }\n",
    "}\n"
   ]
  },
  {
   "cell_type": "code",
   "execution_count": null,
   "id": "652e6a51",
   "metadata": {},
   "outputs": [],
   "source": [
    "<!-- Template file: template.md -->\n",
    "Name: {{ person.name }}\n",
    "Age: {{ person.age }}\n"
   ]
  },
  {
   "cell_type": "markdown",
   "id": "0874106e",
   "metadata": {},
   "source": [
    "# Output\n",
    "\n",
    "Name: John\n",
    "\n",
    "Age: 30\n"
   ]
  },
  {
   "cell_type": "code",
   "execution_count": null,
   "id": "62261edf",
   "metadata": {},
   "outputs": [],
   "source": [
    "# Two-layer nested keys and some lists:"
   ]
  },
  {
   "cell_type": "code",
   "execution_count": null,
   "id": "1bf804d5",
   "metadata": {},
   "outputs": [],
   "source": [
    "# Input YAML data\n",
    "employee:\n",
    "  name: Alice\n",
    "  department: IT\n",
    "  skills:\n",
    "    - Python\n",
    "    - Java\n",
    "    - SQL\n"
   ]
  },
  {
   "cell_type": "code",
   "execution_count": null,
   "id": "0e381a98",
   "metadata": {},
   "outputs": [],
   "source": [
    "# Python equivalent\n",
    "{\n",
    "    'employee': {\n",
    "        'name': 'Alice',\n",
    "        'department': 'IT',\n",
    "        'skills': ['Python', 'Java', 'SQL']\n",
    "    }\n",
    "}\n"
   ]
  },
  {
   "cell_type": "code",
   "execution_count": null,
   "id": "04a04516",
   "metadata": {},
   "outputs": [],
   "source": [
    "<!-- Template file: template.md -->\n",
    "Name: {{ employee.name }}\n",
    "Department: {{ employee.department }}\n",
    "Skills:\n",
    "{% for skill in employee.skills %}\n",
    "- {{ skill }}\n",
    "{% endfor %}\n"
   ]
  },
  {
   "cell_type": "markdown",
   "id": "72b1b9f6",
   "metadata": {},
   "source": [
    "# Rendered Markdown Output:"
   ]
  },
  {
   "cell_type": "markdown",
   "id": "bff11e40",
   "metadata": {},
   "source": [
    "Name: Alice\n",
    "Department: IT\n",
    "Skills:\n",
    "- Python\n",
    "- Java\n",
    "- SQL\n"
   ]
  },
  {
   "cell_type": "markdown",
   "id": "83a58ffd",
   "metadata": {},
   "source": [
    "# 3. Three-layer nested keys and list:\n"
   ]
  },
  {
   "cell_type": "code",
   "execution_count": 2,
   "id": "b1a632e8",
   "metadata": {},
   "outputs": [],
   "source": [
    "# Input YAML data\n",
    "company:\n",
    "  name: ABC Inc.\n",
    "  departments:\n",
    "    IT:\n",
    "      employees:\n",
    "        - name: Alice\n",
    "          age: 30\n",
    "          skills:\n",
    "            - Python\n",
    "            - Java\n",
    "        - name: Bob\n",
    "          age: 35\n",
    "          skills:\n",
    "            - C++\n",
    "            - SQL\n",
    "    HR:\n",
    "      employees:\n",
    "        - name: Charlie\n",
    "          age: 40\n",
    "          skills:\n",
    "            - Communication\n"
   ]
  },
  {
   "cell_type": "code",
   "execution_count": null,
   "id": "a645b88b",
   "metadata": {},
   "outputs": [],
   "source": [
    "# Python equivalent\n",
    "{\n",
    "    'company': {\n",
    "        'name': 'ABC Inc.',\n",
    "        'departments': {\n",
    "            'IT': {\n",
    "                'employees': [\n",
    "                    {\n",
    "                        'name': 'Alice',\n",
    "                        'age': 30,\n",
    "                        'skills': ['Python', 'Java']\n",
    "                    },\n",
    "                    {\n",
    "                        'name': 'Bob',\n",
    "                        'age': 35,\n",
    "                        'skills': ['C++', 'SQL']\n",
    "                    }\n",
    "                ]\n",
    "            },\n",
    "            'HR': {\n",
    "                'employees': [\n",
    "                    {\n",
    "                        'name': 'Charlie',\n",
    "                        'age': 40,\n",
    "                        'skills': ['Communication']\n",
    "                    }\n",
    "                ]\n",
    "            }\n",
    "        }\n",
    "    }\n",
    "}\n"
   ]
  },
  {
   "cell_type": "code",
   "execution_count": null,
   "id": "32c8b79b",
   "metadata": {},
   "outputs": [],
   "source": [
    "<!-- Template file: template.md -->\n",
    "Company Name: {{ company.name }}\n",
    "\n",
    "{% for department, department_data in company.departments.items() %}\n",
    "Department: {{ department }}\n",
    "Employees:\n",
    "{% for employee in department_data.employees %}\n",
    "- Name: {{ employee.name }}\n",
    "  Age: {{ employee.age }}\n",
    "  Skills:\n",
    "  {% for skill in employee.skills %}\n",
    "  - {{ skill }}\n",
    "  {% endfor %}\n",
    "{% endfor %}\n",
    "{% endfor %}\n"
   ]
  },
  {
   "cell_type": "markdown",
   "id": "94d39d46",
   "metadata": {},
   "source": [
    "# Rendered Markdown Output:"
   ]
  },
  {
   "cell_type": "markdown",
   "id": "274f5723",
   "metadata": {},
   "source": [
    "Company Name: ABC Inc.\n",
    "\n",
    "Department: IT\n",
    "Employees:\n",
    "- Name: Alice\n",
    "  Age: 30\n",
    "  Skills:\n",
    "  - Python\n",
    "  - Java\n",
    "- Name: Bob\n",
    "  Age: 35\n",
    "  Skills:\n",
    "  - C++\n",
    "  - SQL\n",
    "\n",
    "Department: HR\n",
    "Employees:\n",
    "- Name: Charlie\n",
    "  Age: 40\n",
    "  Skills:\n",
    "  - Communication\n"
   ]
  },
  {
   "cell_type": "code",
   "execution_count": null,
   "id": "743bc332",
   "metadata": {},
   "outputs": [],
   "source": []
  },
  {
   "cell_type": "code",
   "execution_count": null,
   "id": "7f1d88de",
   "metadata": {},
   "outputs": [],
   "source": []
  },
  {
   "cell_type": "code",
   "execution_count": null,
   "id": "ea17c4f5",
   "metadata": {},
   "outputs": [],
   "source": []
  },
  {
   "cell_type": "code",
   "execution_count": null,
   "id": "f27e86f8",
   "metadata": {},
   "outputs": [],
   "source": []
  },
  {
   "cell_type": "code",
   "execution_count": null,
   "id": "c14b519f",
   "metadata": {},
   "outputs": [],
   "source": []
  },
  {
   "cell_type": "code",
   "execution_count": null,
   "id": "45cf50fc",
   "metadata": {},
   "outputs": [],
   "source": []
  }
 ],
 "metadata": {
  "kernelspec": {
   "display_name": "Python 3 (ipykernel)",
   "language": "python",
   "name": "python3"
  },
  "language_info": {
   "codemirror_mode": {
    "name": "ipython",
    "version": 3
   },
   "file_extension": ".py",
   "mimetype": "text/x-python",
   "name": "python",
   "nbconvert_exporter": "python",
   "pygments_lexer": "ipython3",
   "version": "3.9.18"
  }
 },
 "nbformat": 4,
 "nbformat_minor": 5
}
