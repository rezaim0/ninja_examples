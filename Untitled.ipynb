{
 "cells": [
  {
   "cell_type": "code",
   "execution_count": null,
   "id": "b0a737b4",
   "metadata": {},
   "outputs": [],
   "source": [
    "# Dictionaries: In YAML, dictionaries are represented by key-value pairs. \n",
    "# The key and value are separated by a colon :\n",
    "\n",
    "# For example: \n",
    "#             key: value\n"
   ]
  },
  {
   "cell_type": "code",
   "execution_count": null,
   "id": "bea5f00b",
   "metadata": {},
   "outputs": [],
   "source": [
    "# Lists: Lists are represented by lines starting with a dash - or enclosed in square brackets []. \n",
    "\n",
    "#         For example:\n",
    "#                 - item1\n",
    "#                 - item2\n"
   ]
  },
  {
   "cell_type": "code",
   "execution_count": null,
   "id": "0cbc6850",
   "metadata": {},
   "outputs": [],
   "source": [
    "# This is a YAML file with two layers of nested key-value pairs\n",
    "---\n",
    "level1:  \n",
    "    level2a: value2a\n",
    "    level2b: value2b\n"
   ]
  },
  {
   "cell_type": "code",
   "execution_count": null,
   "id": "204b8834",
   "metadata": {},
   "outputs": [],
   "source": [
    "# The corresponding Python representation of this YAML content would be:\n"
   ]
  },
  {
   "cell_type": "code",
   "execution_count": null,
   "id": "bcbddbdc",
   "metadata": {},
   "outputs": [],
   "source": [
    "{\n",
    "    'level1': {\n",
    "        'level2a': 'value2a',\n",
    "        'level2b': 'value2b'\n",
    "    }\n",
    "}\n"
   ]
  },
  {
   "cell_type": "code",
   "execution_count": null,
   "id": "b384da06",
   "metadata": {},
   "outputs": [],
   "source": [
    "# A three-layer nested structure in YAML would look like this:\n",
    "# This is a supermarket list using YAML\n",
    "---\n",
    "food:  \n",
    "    fruits: \n",
    "        citrics: oranges  \n",
    "        tropical: \n",
    "            type1: bananas\n",
    "            type2: pineapples\n"
   ]
  },
  {
   "cell_type": "code",
   "execution_count": null,
   "id": "738b56ec",
   "metadata": {},
   "outputs": [],
   "source": [
    "# The corresponding Python representation of this YAML content would be:\n",
    "\n",
    "{\n",
    "    'food': {\n",
    "        'fruits': {\n",
    "            'citrics': 'oranges',\n",
    "            'tropical': {\n",
    "                'type1': 'bananas',\n",
    "                'type2': 'pineapples'\n",
    "            }\n",
    "        }\n",
    "    }\n",
    "}\n"
   ]
  },
  {
   "cell_type": "code",
   "execution_count": null,
   "id": "2d6e3003",
   "metadata": {},
   "outputs": [],
   "source": [
    "## Fruits\n",
    "\n",
    "### Citrics\n",
    "- {{ page.food.fruits.citrics }}\n",
    "\n",
    "### Tropical\n",
    "- {{ page.food.fruits.tropical.type1 }}\n",
    "- {{ page.food.fruits.tropical.type2 }}"
   ]
  },
  {
   "cell_type": "code",
   "execution_count": null,
   "id": "ae079f4a",
   "metadata": {},
   "outputs": [],
   "source": [
    "# A mix of dictionary and list:"
   ]
  },
  {
   "cell_type": "code",
   "execution_count": null,
   "id": "da7be570",
   "metadata": {},
   "outputs": [],
   "source": [
    "# A supermarket list using YAML\n",
    "---\n",
    "food:  \n",
    "  - vegetables: tomatoes #first list item\n",
    "  - fruits: #second list item\n",
    "    citrics: oranges  \n",
    "    tropical: bananas\n",
    "    nuts: peanuts\n",
    "    sweets: raisins\n"
   ]
  },
  {
   "cell_type": "code",
   "execution_count": null,
   "id": "c4be2077",
   "metadata": {},
   "outputs": [],
   "source": [
    " # corresponding python equivielance: "
   ]
  },
  {
   "cell_type": "code",
   "execution_count": null,
   "id": "1ccb99da",
   "metadata": {},
   "outputs": [],
   "source": [
    "{\n",
    "    'food': [\n",
    "        {'vegetables': 'tomatoes'},\n",
    "        {\n",
    "            'fruits': {\n",
    "                'citrics': 'oranges',\n",
    "                'tropical': 'bananas',\n",
    "                'nuts': 'peanuts',\n",
    "                'sweets': 'raisins'\n",
    "            }\n",
    "        }\n",
    "    ]\n",
    "}\n"
   ]
  },
  {
   "cell_type": "code",
   "execution_count": null,
   "id": "f2b5abe1",
   "metadata": {},
   "outputs": [],
   "source": []
  }
 ],
 "metadata": {
  "kernelspec": {
   "display_name": "Python 3 (ipykernel)",
   "language": "python",
   "name": "python3"
  },
  "language_info": {
   "codemirror_mode": {
    "name": "ipython",
    "version": 3
   },
   "file_extension": ".py",
   "mimetype": "text/x-python",
   "name": "python",
   "nbconvert_exporter": "python",
   "pygments_lexer": "ipython3",
   "version": "3.9.18"
  }
 },
 "nbformat": 4,
 "nbformat_minor": 5
}
